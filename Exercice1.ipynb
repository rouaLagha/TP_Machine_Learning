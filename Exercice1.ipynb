{
  "nbformat": 4,
  "nbformat_minor": 0,
  "metadata": {
    "colab": {
      "provenance": [],
      "authorship_tag": "ABX9TyPI1Ez+tonDojVu0SZ/CO/A",
      "include_colab_link": true
    },
    "kernelspec": {
      "name": "python3",
      "display_name": "Python 3"
    },
    "language_info": {
      "name": "python"
    }
  },
  "cells": [
    {
      "cell_type": "markdown",
      "metadata": {
        "id": "view-in-github",
        "colab_type": "text"
      },
      "source": [
        "<a href=\"https://colab.research.google.com/github/rouaLagha/TP_Machine_Learning/blob/main/Exercice1.ipynb\" target=\"_parent\"><img src=\"https://colab.research.google.com/assets/colab-badge.svg\" alt=\"Open In Colab\"/></a>"
      ]
    },
    {
      "cell_type": "code",
      "execution_count": null,
      "metadata": {
        "id": "B61vV9IdaQ8S"
      },
      "outputs": [],
      "source": [
        "import pandas as pd\n",
        "import numpy as np\n",
        "import matplotlib.pyplot as plt\n",
        "import seaborn as sns\n",
        "\n",
        "from sklearn.model_selection import train_test_split\n",
        "from sklearn.linear_model import LinearRegression\n",
        "from sklearn.metrics import mean_squared_error, r2_score\n",
        "from sklearn.preprocessing import StandardScaler"
      ]
    },
    {
      "cell_type": "code",
      "source": [
        "df = pd.read_csv(\"/content/smart_home_energy_consumption_large.csv\")"
      ],
      "metadata": {
        "id": "eLLkGXFMlJKd"
      },
      "execution_count": null,
      "outputs": []
    },
    {
      "cell_type": "code",
      "source": [
        "print(\"Aperçu des données :\")\n",
        "print(df.head())\n",
        "\n",
        "print(\"\\nRésumé statistique :\")\n",
        "print(df.describe())\n",
        "\n",
        "print(\"\\nTypes des colonnes :\")\n",
        "print(df.dtypes)"
      ],
      "metadata": {
        "colab": {
          "base_uri": "https://localhost:8080/"
        },
        "id": "-llHHEpJaYdL",
        "outputId": "5d5e9029-64c5-4698-fc26-7ad0b2cfec21"
      },
      "execution_count": null,
      "outputs": [
        {
          "output_type": "stream",
          "name": "stdout",
          "text": [
            "Aperçu des données :\n",
            "   Home ID Appliance Type  Energy Consumption (kWh)   Time        Date  \\\n",
            "0       94         Fridge                      0.20  21:12  2023-12-02   \n",
            "1      435           Oven                      0.23  20:11  2023-08-06   \n",
            "2      466     Dishwasher                      0.32  06:39  2023-11-21   \n",
            "3      496         Heater                      3.92  21:56  2023-01-21   \n",
            "4      137      Microwave                      0.44  04:31  2023-08-26   \n",
            "\n",
            "   Outdoor Temperature (°C)  Season  Household Size  \n",
            "0                      -1.0    Fall               2  \n",
            "1                      31.1  Summer               5  \n",
            "2                      21.3    Fall               3  \n",
            "3                      -4.2  Winter               1  \n",
            "4                      34.5  Summer               5  \n",
            "\n",
            "Résumé statistique :\n",
            "             Home ID  Energy Consumption (kWh)  Outdoor Temperature (°C)  \\\n",
            "count  100000.000000             100000.000000             100000.000000   \n",
            "mean      250.374980                  1.499952                 14.950135   \n",
            "std       144.435367                  1.181176                 14.438755   \n",
            "min         1.000000                  0.100000                -10.000000   \n",
            "25%       125.000000                  0.590000                  2.400000   \n",
            "50%       250.000000                  1.230000                 14.900000   \n",
            "75%       375.000000                  1.870000                 27.400000   \n",
            "max       500.000000                  5.000000                 40.000000   \n",
            "\n",
            "       Household Size  \n",
            "count   100000.000000  \n",
            "mean         3.001770  \n",
            "std          1.417077  \n",
            "min          1.000000  \n",
            "25%          2.000000  \n",
            "50%          3.000000  \n",
            "75%          4.000000  \n",
            "max          5.000000  \n",
            "\n",
            "Types des colonnes :\n",
            "Home ID                       int64\n",
            "Appliance Type               object\n",
            "Energy Consumption (kWh)    float64\n",
            "Time                         object\n",
            "Date                         object\n",
            "Outdoor Temperature (°C)    float64\n",
            "Season                       object\n",
            "Household Size                int64\n",
            "dtype: object\n"
          ]
        }
      ]
    },
    {
      "cell_type": "code",
      "source": [
        "# Encodage des variables catégorielles\n",
        "df_encoded = pd.get_dummies(df, columns=[\"Appliance Type\", \"Season\"], drop_first=True)\n",
        "\n",
        "# Conversion de la date en datetime\n",
        "df_encoded[\"Date\"] = pd.to_datetime(df_encoded[\"Date\"])\n",
        "df_encoded[\"Month\"] = df_encoded[\"Date\"].dt.month\n",
        "df_encoded = df_encoded.drop([\"Time\", \"Date\"], axis=1)  # Suppression de Time et Date car inutiles"
      ],
      "metadata": {
        "id": "xOcxpn8-ayg4"
      },
      "execution_count": null,
      "outputs": []
    },
    {
      "cell_type": "code",
      "source": [
        "X = df_encoded.drop(\"Energy Consumption (kWh)\", axis=1)\n",
        "y = df_encoded[\"Energy Consumption (kWh)\"]\n"
      ],
      "metadata": {
        "id": "kQWT-4swg8PH"
      },
      "execution_count": null,
      "outputs": []
    },
    {
      "cell_type": "code",
      "source": [
        "# Normalisation des caractéristiques\n",
        "scaler = StandardScaler()\n",
        "X_scaled = scaler.fit_transform(X)\n",
        "\n",
        "# Division des données en ensemble d'entraînement et de test\n",
        "X_train, X_test, y_train, y_test = train_test_split(X_scaled, y, test_size=0.2, random_state=42)"
      ],
      "metadata": {
        "id": "0hqh6I51iLV-"
      },
      "execution_count": null,
      "outputs": []
    },
    {
      "cell_type": "code",
      "source": [
        "# Entraînement du modèle de régression linéaire\n",
        "model = LinearRegression()\n",
        "model.fit(X_train, y_train)\n",
        "\n",
        "# Prédictions sur l'ensemble de test\n",
        "y_pred = model.predict(X_test)\n"
      ],
      "metadata": {
        "id": "7xTJ0tSBiP-9"
      },
      "execution_count": null,
      "outputs": []
    },
    {
      "cell_type": "code",
      "source": [
        "# Évaluation des performances du modèle\n",
        "rmse = np.sqrt(mean_squared_error(y_test, y_pred))  # Calcul du RMSE manuellement\n",
        "r2 = r2_score(y_test, y_pred)\n",
        "\n",
        "print(f\"\\n✅ RMSE (Erreur quadratique moyenne) : {rmse:.2f}\")\n",
        "print(f\"✅ R² (Coefficient de détermination) : {r2:.2f}\")\n",
        "\n",
        "# Interprétation des résultats : Coefficients du modèle\n",
        "coefficients = pd.DataFrame(model.coef_, index=X.columns, columns=[\"Coefficient\"])\n",
        "print(\"\\n🔍 Influence des variables sur la consommation énergétique :\")\n",
        "print(coefficients)"
      ],
      "metadata": {
        "colab": {
          "base_uri": "https://localhost:8080/"
        },
        "id": "eBe7vzTuiQsE",
        "outputId": "0228a2c8-09a5-4f1f-f1f8-475a2b5c1a15"
      },
      "execution_count": null,
      "outputs": [
        {
          "output_type": "stream",
          "name": "stdout",
          "text": [
            "\n",
            "✅ RMSE (Erreur quadratique moyenne) : 0.58\n",
            "✅ R² (Coefficient de détermination) : 0.76\n",
            "\n",
            "🔍 Influence des variables sur la consommation énergétique :\n",
            "                                Coefficient\n",
            "Home ID                           -0.000541\n",
            "Outdoor Temperature (°C)          -0.000978\n",
            "Household Size                    -0.001748\n",
            "Appliance Type_Computer           -0.718205\n",
            "Appliance Type_Dishwasher         -0.721107\n",
            "Appliance Type_Fridge             -0.956475\n",
            "Appliance Type_Heater             -0.003991\n",
            "Appliance Type_Lights             -0.728821\n",
            "Appliance Type_Microwave          -0.715622\n",
            "Appliance Type_Oven               -0.717347\n",
            "Appliance Type_TV                 -0.716958\n",
            "Appliance Type_Washing Machine    -0.716838\n",
            "Season_Spring                     -0.009654\n",
            "Season_Summer                     -0.006367\n",
            "Season_Winter                     -0.018204\n",
            "Month                             -0.018765\n"
          ]
        }
      ]
    },
    {
      "cell_type": "code",
      "source": [],
      "metadata": {
        "id": "YAVl7Y9Gif-X"
      },
      "execution_count": null,
      "outputs": []
    }
  ]
}